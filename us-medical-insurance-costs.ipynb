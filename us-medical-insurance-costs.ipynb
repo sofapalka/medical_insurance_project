{
 "cells": [
  {
   "cell_type": "markdown",
   "metadata": {},
   "source": [
    "# U.S. Medical Insurance Costs"
   ]
  },
  {
   "cell_type": "code",
   "execution_count": 38,
   "metadata": {},
   "outputs": [],
   "source": [
    "import csv \n",
    "\n",
    "age = []\n",
    "with open('insurance.csv', newline='') as insurance:\n",
    "    insurance_reader = csv.DictReader(insurance)\n",
    "    for row in insurance_reader:\n",
    "        age.append(row['age'])\n",
    "        \n",
    "for i in range(0, len(age)):\n",
    "    age[i] = int(age[i])\n"
   ]
  },
  {
   "cell_type": "code",
   "execution_count": 12,
   "metadata": {},
   "outputs": [],
   "source": [
    "sex = []\n",
    "with open('insurance.csv', newline='') as insurance:\n",
    "    insurance_reader = csv.DictReader(insurance)\n",
    "    for row in insurance_reader:\n",
    "        sex.append(row['sex'])"
   ]
  },
  {
   "cell_type": "code",
   "execution_count": 52,
   "metadata": {},
   "outputs": [],
   "source": [
    "bmi = []\n",
    "with open('insurance.csv', newline='') as insurance:\n",
    "    insurance_reader = csv.DictReader(insurance)\n",
    "    for row in insurance_reader:\n",
    "        bmi.append(row['bmi'])\n",
    "\n",
    "for i in range(0, len(bmi)):\n",
    "    bmi[i] = float(bmi[i])"
   ]
  },
  {
   "cell_type": "code",
   "execution_count": 102,
   "metadata": {},
   "outputs": [],
   "source": [
    "children = []\n",
    "with open('insurance.csv', newline='') as insurance:\n",
    "    insurance_reader = csv.DictReader(insurance)\n",
    "    for row in insurance_reader:\n",
    "        children.append(row['children'])\n",
    "        \n",
    "for i in range(0, len(children)):\n",
    "    children[i] = int(children[i])"
   ]
  },
  {
   "cell_type": "code",
   "execution_count": 90,
   "metadata": {},
   "outputs": [],
   "source": [
    "smoker = []\n",
    "with open('insurance.csv', newline='') as insurance:\n",
    "    insurance_reader = csv.DictReader(insurance)\n",
    "    for row in insurance_reader:\n",
    "        smoker.append(row['smoker'])"
   ]
  },
  {
   "cell_type": "code",
   "execution_count": 17,
   "metadata": {},
   "outputs": [],
   "source": [
    "region = []\n",
    "with open('insurance.csv', newline='') as insurance:\n",
    "    insurance_reader = csv.DictReader(insurance)\n",
    "    for row in insurance_reader:\n",
    "        region.append(row['region'])"
   ]
  },
  {
   "cell_type": "code",
   "execution_count": 58,
   "metadata": {},
   "outputs": [],
   "source": [
    "charges = []\n",
    "with open('insurance.csv', newline='') as insurance:\n",
    "    insurance_reader = csv.DictReader(insurance)\n",
    "    for row in insurance_reader:\n",
    "        charges.append(row['charges'])\n",
    "        \n",
    "for i in range(0, len(charges)):\n",
    "    charges[i] = float(charges[i])"
   ]
  },
  {
   "cell_type": "code",
   "execution_count": 48,
   "metadata": {},
   "outputs": [
    {
     "name": "stdout",
     "output_type": "stream",
     "text": [
      "The youngest insurance customer is 18 years old.\n"
     ]
    }
   ],
   "source": [
    "#finding the youngest patient\n",
    "youngest_age = 10000\n",
    "for ages in age:\n",
    "    if ages < youngest_age:\n",
    "        youngest_age = ages\n",
    "\n",
    "print('The youngest insurance customer is ' + str(youngest_age) + ' years old.')"
   ]
  },
  {
   "cell_type": "code",
   "execution_count": 49,
   "metadata": {},
   "outputs": [
    {
     "name": "stdout",
     "output_type": "stream",
     "text": [
      "The number of females present in the dataset is 662, and the number of males is 676.\n"
     ]
    }
   ],
   "source": [
    "#counting the number of females and males in the data\n",
    "females = []\n",
    "males = []\n",
    "for gender in sex:\n",
    "    if gender == 'female':\n",
    "        females.append(gender)\n",
    "    else:\n",
    "        males.append(gender)\n",
    "        \n",
    "number_females = len(females)\n",
    "number_males = len(males)\n",
    "print('The number of females present in the dataset is ' + str(number_females) + ',' + ' and the number of males is ' + str(number_males) + '.')"
   ]
  },
  {
   "cell_type": "code",
   "execution_count": 57,
   "metadata": {},
   "outputs": [
    {
     "name": "stdout",
     "output_type": "stream",
     "text": [
      "Average BMI of the dataset is 30.66.\n"
     ]
    }
   ],
   "source": [
    "#average BMI\n",
    "bmi_total = 0\n",
    "\n",
    "for bmi_data in bmi:\n",
    "    bmi_total += bmi_data\n",
    "\n",
    "average_bmi = bmi_total / len(bmi)\n",
    "\n",
    "average_bmi = round(average_bmi, 2)\n",
    "\n",
    "print('Average BMI of the dataset is ' + str(average_bmi) + '.')\n",
    "    "
   ]
  },
  {
   "cell_type": "code",
   "execution_count": 60,
   "metadata": {},
   "outputs": [
    {
     "name": "stdout",
     "output_type": "stream",
     "text": [
      "Average cost of the insurance is 13270.42 dollars.\n"
     ]
    }
   ],
   "source": [
    "#average cost \n",
    "\n",
    "cost_total = 0\n",
    "\n",
    "for cost in charges:\n",
    "    cost_total += cost\n",
    "\n",
    "average_cost = cost_total / len(charges)\n",
    "average_cost = round(average_cost, 2)\n",
    "\n",
    "print('Average cost of the insurance is ' + str(average_cost) + ' dollars.')"
   ]
  },
  {
   "cell_type": "code",
   "execution_count": 91,
   "metadata": {},
   "outputs": [],
   "source": [
    "#average cost for smokers and non-smokers\n",
    "\n",
    "smoke_cost_zip = zip (smoker, charges)\n",
    "smoke_cost = list(smoke_cost_zip)\n",
    "\n",
    "total_smoker = 0\n",
    "total_non_smoker = 0\n",
    "\n",
    "for i in range(0, len(smoke_cost)):\n",
    "    if smoke_cost[i][0] == 'yes':\n",
    "        total_smoker += smoke_cost[i][1]\n",
    "    else:\n",
    "        total_non_smoker += smoke_cost[i][1]"
   ]
  },
  {
   "cell_type": "code",
   "execution_count": 98,
   "metadata": {},
   "outputs": [
    {
     "name": "stdout",
     "output_type": "stream",
     "text": [
      "The average insurance cost for a smoking person is 32050.23 dollars, whereas the cost for a non-smoking individual is 8434.27 dollars.\n"
     ]
    }
   ],
   "source": [
    "smoker_yes = []\n",
    "smoker_no = []\n",
    "\n",
    "for i in range(0, len(smoke_cost)):\n",
    "    if smoke_cost[i][0] == 'yes':\n",
    "        smoker_yes.append(smoke_cost[i][0])\n",
    "    else:\n",
    "        smoker_no.append(smoke_cost[i][0])\n",
    "\n",
    "average_smoker = total_smoker / len(smoker_yes)\n",
    "average_smoker = round(average_smoker, 2)\n",
    "\n",
    "average_non_smoker = total_non_smoker / len(smoker_no)\n",
    "average_non_smoker = round(average_non_smoker, 2)\n",
    "\n",
    "print(\"The average insurance cost for a smoking person is \" + str(average_smoker) + \" dollars, whereas the cost for a non-smoking individual is \" + str(average_non_smoker) + \" dollars.\")"
   ]
  },
  {
   "cell_type": "code",
   "execution_count": 115,
   "metadata": {},
   "outputs": [
    {
     "name": "stdout",
     "output_type": "stream",
     "text": [
      "The average insurance cost for a person with a least one kid is 13949.94 dollars, whereas the cost for a childfree individual is 12365.98 dollars.\n"
     ]
    }
   ],
   "source": [
    "#average cost for people with kids\n",
    "\n",
    "kids_cost_zip = zip (children, charges)\n",
    "kids_cost = list(kids_cost_zip)\n",
    "\n",
    "total_kids = 0\n",
    "total_no_kids = 0 \n",
    "\n",
    "for i in range(0, len(kids_cost)):\n",
    "    if kids_cost[i][0] >= 1:\n",
    "        total_kids += kids_cost[i][1]\n",
    "    else:\n",
    "        total_no_kids += kids_cost[i][1]\n",
    "\n",
    "kids_parents = []\n",
    "no_kids = []\n",
    "\n",
    "for i in range (0, len(kids_cost)):\n",
    "    if kids_cost[i][0] >= 1:\n",
    "        kids_parents.append(kids_cost[i][0])\n",
    "    else:\n",
    "        no_kids.append(kids_cost[i][0])\n",
    "\n",
    "average_kids_cost = total_kids / len(kids_parents)\n",
    "average_kids_cost = round(average_kids_cost, 2)\n",
    "\n",
    "average_no_kids_cost = total_no_kids / len(no_kids)\n",
    "average_no_kids_cost = round(average_no_kids_cost, 2)\n",
    "\n",
    "print(\"The average insurance cost for a person with a least one kid is \" + str(average_kids_cost) + \" dollars, whereas the cost for a childfree individual is \" + str(average_no_kids_cost) + \" dollars.\")"
   ]
  },
  {
   "cell_type": "code",
   "execution_count": 119,
   "metadata": {},
   "outputs": [
    {
     "name": "stdout",
     "output_type": "stream",
     "text": [
      "Number of customers in the southwest: 325\n",
      "Number of customers in the southeas: 364\n",
      "Number of customers in the northwest: 325\n",
      "Number of customers in the northeast: 324\n"
     ]
    }
   ],
   "source": [
    "#Where people are from \n",
    "\n",
    "southwest = []\n",
    "southeast = []\n",
    "northwest = []\n",
    "northeast = []\n",
    "\n",
    "for area in region:\n",
    "    if area == \"southwest\":\n",
    "        southwest.append(area)\n",
    "    elif area == \"southeast\":\n",
    "        southeast.append(area)\n",
    "    elif area == \"northwest\":\n",
    "        northwest.append(area)\n",
    "    else: \n",
    "        northeast.append(area)\n",
    "\n",
    "print(\"Number of customers in the southwest: \" + str(len(southwest)))\n",
    "print(\"Number of customers in the southeas: \" + str(len(southeast)))\n",
    "print(\"Number of customers in the northwest: \" + str(len(northwest)))\n",
    "print(\"Number of customers in the northeast: \" + str(len(northeast)))"
   ]
  }
 ],
 "metadata": {
  "kernelspec": {
   "display_name": "Python 3 (ipykernel)",
   "language": "python",
   "name": "python3"
  },
  "language_info": {
   "codemirror_mode": {
    "name": "ipython",
    "version": 3
   },
   "file_extension": ".py",
   "mimetype": "text/x-python",
   "name": "python",
   "nbconvert_exporter": "python",
   "pygments_lexer": "ipython3",
   "version": "3.9.13"
  }
 },
 "nbformat": 4,
 "nbformat_minor": 4
}
